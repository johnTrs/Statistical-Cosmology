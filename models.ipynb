{
 "cells": [
  {
   "cell_type": "markdown",
   "metadata": {},
   "source": [
    "<h1 style=\"text-align:center\"> Minimize $ \\mathbf{χ^2} $ </h1>"
   ]
  },
  {
   "cell_type": "markdown",
   "metadata": {},
   "source": [
    "# DATA"
   ]
  },
  {
   "cell_type": "code",
   "execution_count": 1,
   "metadata": {},
   "outputs": [],
   "source": [
    "import numpy as np\n",
    "from scipy.integrate import odeint\n",
    "import matplotlib.pyplot as plt\n",
    "import scipy.optimize as opt\n",
    "dataFromRatraNew = np.array([\n",
    "        [0.070, 69.,19.6],\n",
    "        [0.090,69.,12.],\n",
    "        [0.120,68.6,26.2],\n",
    "        [0.170,83.,8.],\n",
    "        [0.179,75.,4.],\n",
    "        [0.199,75.,5.],\n",
    "        [0.200,72.9,29.6],\n",
    "        [0.270,77.0,14.],\n",
    "        [0.280,88.8,36.6],\n",
    "        [0.352,83.,14.],\n",
    "        [0.3802,83.,13.5],\n",
    "        [0.400,95.,17.],\n",
    "        [0.4004,77.,10.2],\n",
    "        [0.4247,87.1,11.2],\n",
    "        # [0.440,82.6,7.8], #The last paper of Yu ratra et al 2017, arXiv:1711.03437v1\n",
    "        #discard this measurement.\n",
    "        [0.4497,92.8,12.9],\n",
    "        [0.47, 89.0, 50.0],\n",
    "        #Here the [0.47, 89.0, 50.0] measurement is added to the list.\n",
    "        [0.4783,80.9,9.],\n",
    "        [0.480,97.,62.],\n",
    "        [0.593,104.,13.],\n",
    "        # [0.600,87.9,6.1], ###??? it is not in the list YuRattra\n",
    "        [0.680,92.,8.],\n",
    "        # [0.730,97.3,2.1], ###??? it is not in the list\n",
    "        [0.781,105.,12.],\n",
    "        [0.875,125.,17.],\n",
    "        [0.880,90.,40.],\n",
    "        [0.900,117.,23.],\n",
    "        [1.037,154.,20.],\n",
    "        [1.300,168.0,17.],\n",
    "        [1.363,160.,33.6],\n",
    "        [1.430,177.,18.],\n",
    "        [1.530,140.,14.],\n",
    "        [1.750,202.,40.],\n",
    "        [1.965,186.5,50.4] ])"
   ]
  },
  {
   "cell_type": "markdown",
   "metadata": {},
   "source": [
    "# lCDM model"
   ]
  },
  {
   "cell_type": "code",
   "execution_count": 2,
   "metadata": {},
   "outputs": [],
   "source": [
    "def lCDM(z,fpars):\n",
    "  \n",
    "  Om_m0 = fpars[0]\n",
    "  H_0 = fpars[1]\n",
    "  E = (Om_m0*(1+z)**3 + 1-Om_m0)**0.5\n",
    "  return E*H_0"
   ]
  },
  {
   "cell_type": "markdown",
   "metadata": {},
   "source": [
    " <h1 style=\"text-align:center\"> $ \\mathbf{χ^2} $ for lCDM </h1>"
   ]
  },
  {
   "cell_type": "code",
   "execution_count": 3,
   "metadata": {},
   "outputs": [],
   "source": [
    "def chisq_lCDM(pars): \n",
    "  sum_chisq  = 0\n",
    "  for dpoint in dataFromRatraNew:\n",
    "    z = dpoint[0] \n",
    "    theorH = lCDM(z,pars)\n",
    "    sigma = dpoint[2]\n",
    "    H_obs = dpoint[1]\n",
    "    x = (H_obs - theorH)**2 / sigma**2\n",
    "    sum_chisq = sum_chisq + x\n",
    "  return sum_chisq"
   ]
  },
  {
   "cell_type": "code",
   "execution_count": 4,
   "metadata": {},
   "outputs": [
    {
     "data": {
      "text/plain": [
       "(14.499985774271122, array([ 0.31955539, 68.14991651]))"
      ]
     },
     "execution_count": 4,
     "metadata": {},
     "output_type": "execute_result"
    }
   ],
   "source": [
    "x0 = np.array([0,0])\n",
    "lcdm_opt= opt.minimize(chisq_lCDM, x0)\n",
    "\n",
    "lcdm_best_pars=lcdm_opt.x\n",
    "\n",
    "lcdm_chisq=lcdm_opt.fun\n",
    "\n",
    "lcdm_chisq,lcdm_best_pars"
   ]
  },
  {
   "cell_type": "code",
   "execution_count": null,
   "metadata": {},
   "outputs": [],
   "source": []
  },
  {
   "cell_type": "markdown",
   "metadata": {},
   "source": [
    "# HDE model"
   ]
  },
  {
   "cell_type": "code",
   "execution_count": 5,
   "metadata": {},
   "outputs": [],
   "source": [
    "def h_de(z,pars,O_de):\n",
    "    H_0=pars[1]\n",
    "    Om_0=pars[0]\n",
    "    H = ((Om_0*(1/(1+z))**(-3) / (1-O_de)))**0.5\n",
    "    return H*H_0\n",
    "     "
   ]
  },
  {
   "cell_type": "code",
   "execution_count": 6,
   "metadata": {},
   "outputs": [],
   "source": [
    "def o_de(om_de,z,C):\n",
    "  dOdz = -om_de*(1-om_de)*(1 + 2*om_de**0.5/C)/(1+z)\n",
    "  return dOdz\n",
    "\n",
    "C=0.6"
   ]
  },
  {
   "cell_type": "markdown",
   "metadata": {},
   "source": [
    "# create the values of z to solve the differential equation and calculate H(z)"
   ]
  },
  {
   "cell_type": "code",
   "execution_count": 7,
   "metadata": {},
   "outputs": [
    {
     "data": {
      "text/plain": [
       "1.965"
      ]
     },
     "execution_count": 7,
     "metadata": {},
     "output_type": "execute_result"
    }
   ],
   "source": [
    "#min_z=min(dataFromRatraNew[:,0])\n",
    "max_z=max(dataFromRatraNew[:,0])\n",
    "\n",
    "max_z"
   ]
  },
  {
   "cell_type": "code",
   "execution_count": 8,
   "metadata": {},
   "outputs": [],
   "source": [
    "n_points=10000\n",
    "\n",
    "zz = np.linspace(0,max_z,n_points)\n",
    "\n",
    "h=zz[1]-zz[0]"
   ]
  },
  {
   "cell_type": "code",
   "execution_count": 9,
   "metadata": {},
   "outputs": [],
   "source": [
    "def chisq_hde(pars,O_de):\n",
    "    sum_chisq  = 0\n",
    "    for dpoint in dataFromRatraNew:\n",
    "        z = dpoint[0]  \n",
    "        \n",
    "        # take the value of O_de[i] that corresponds to the z of the data . i.e. O_de[0] is for z=0 is 0de_0\n",
    "        # 0_de[1] is for z=h, And we solve backwards for i \n",
    "        \n",
    "        theorH = h_de(z,pars,O_de[int((z/h))])  #  z_i= h*i,  i=z_i/h\n",
    "        \n",
    "        sigma = dpoint[2]\n",
    "        H_obs = dpoint[1]\n",
    "        x = (H_obs - theorH)**2 / sigma**2\n",
    "        sum_chisq = sum_chisq + x\n",
    "        \n",
    "    return sum_chisq\n",
    "    "
   ]
  },
  {
   "cell_type": "code",
   "execution_count": 10,
   "metadata": {},
   "outputs": [],
   "source": [
    "sample_rate=150\n",
    "Om_space = np.linspace(0.05,1, sample_rate)\n",
    "H0_space  = np.linspace(50,80, sample_rate)\n",
    "\n",
    "xx, yy = np.meshgrid(Om_space, H0_space)\n",
    "\n",
    "Xgrid = np.vstack([xx.ravel(), yy.ravel()]).T\n",
    "\n"
   ]
  },
  {
   "cell_type": "code",
   "execution_count": 11,
   "metadata": {},
   "outputs": [],
   "source": [
    "def chisq_hde_last(pars):\n",
    "    Om_0=pars[0]\n",
    "    H_0=pars[1]\n",
    "    \n",
    "    y0=1-Om_0 # initial condition\n",
    "    \n",
    "    O_de= odeint(o_de,y0,zz,args=(C,))\n",
    "    \n",
    "    return chisq_hde(pars,O_de)"
   ]
  },
  {
   "cell_type": "code",
   "execution_count": 12,
   "metadata": {},
   "outputs": [
    {
     "data": {
      "text/plain": [
       "(array([ 0.29228188, 71.1409396 ]), 14.28264531901841)"
      ]
     },
     "execution_count": 12,
     "metadata": {},
     "output_type": "execute_result"
    }
   ],
   "source": [
    "hde_chisq_all=chisq_hde_last([Xgrid[:,0], Xgrid[:,1]])\n",
    "\n",
    "hde_best_pars=Xgrid[np.argmin(hde_chisq_all)]\n",
    "\n",
    "hde_chisq=min(hde_chisq_all)\n",
    "\n",
    "hde_best_pars,hde_chisq"
   ]
  },
  {
   "cell_type": "markdown",
   "metadata": {},
   "source": [
    "# Plot"
   ]
  },
  {
   "cell_type": "code",
   "execution_count": 13,
   "metadata": {},
   "outputs": [
    {
     "data": {
      "image/png": "[encoded data removed]",
      "text/plain": [
       "<Figure size 720x360 with 1 Axes>"
      ]
     },
     "metadata": {},
     "output_type": "display_data"
    }
   ],
   "source": [
    "hologr = []\n",
    "\n",
    "y0=1-hde_best_pars[0]\n",
    "O_de = odeint(o_de,y0,zz,args=(C,))\n",
    "\n",
    "for i,z in enumerate(zz):\n",
    "  H_de = h_de(z,hde_best_pars,O_de[int(z/h)])  \n",
    "  hologr.append(H_de) \n",
    "    \n",
    "    \n",
    "plt.style.use(\"dark_background\")\n",
    "plt.figure(figsize=(10,5))\n",
    "plt.plot(zz,hologr,label=f\" HDE H_0={round(hde_best_pars[1],2)} ,Om_0={round(hde_best_pars[0],2)}\",c='red')\n",
    "\n",
    "plt.xlabel('z')\n",
    "plt.ylabel('H (km/sec/Mpc)')\n",
    "\n",
    "plt.plot(zz,lCDM(zz,lcdm_best_pars),c='y',\n",
    "         label=f\"lCDM H_0={round(lcdm_best_pars[1],2)} ,Om_0={round(lcdm_best_pars[0],2)}\")\n",
    "\n",
    "\n",
    "plt.scatter(dataFromRatraNew[:,0],dataFromRatraNew[:,1],c='w')\n",
    "plt.legend()\n",
    "plt.show()  "
   ]
  },
  {
   "cell_type": "code",
   "execution_count": null,
   "metadata": {},
   "outputs": [],
   "source": []
  },
  {
   "cell_type": "code",
   "execution_count": null,
   "metadata": {},
   "outputs": [],
   "source": []
  },
  {
   "cell_type": "code",
   "execution_count": null,
   "metadata": {},
   "outputs": [],
   "source": []
  }
 ],
 "metadata": {
  "kernelspec": {
   "display_name": "Python 3",
   "language": "python",
   "name": "python3"
  },
  "language_info": {
   "codemirror_mode": {
    "name": "ipython",
    "version": 3
   },
   "file_extension": ".py",
   "mimetype": "text/x-python",
   "name": "python",
   "nbconvert_exporter": "python",
   "pygments_lexer": "ipython3",
   "version": "3.7.4"
  }
 },
 "nbformat": 4,
 "nbformat_minor": 4
}
